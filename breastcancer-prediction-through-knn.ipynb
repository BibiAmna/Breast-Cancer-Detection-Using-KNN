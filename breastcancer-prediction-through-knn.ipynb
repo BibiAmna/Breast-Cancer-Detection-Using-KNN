{
 "cells": [
  {
   "cell_type": "code",
   "execution_count": 1,
   "id": "b9e9157b",
   "metadata": {
    "_cell_guid": "b1076dfc-b9ad-4769-8c92-a6c4dae69d19",
    "_uuid": "8f2839f25d086af736a60e9eeb907d3b93b6e0e5",
    "execution": {
     "iopub.execute_input": "2023-03-19T07:44:18.458496Z",
     "iopub.status.busy": "2023-03-19T07:44:18.458103Z",
     "iopub.status.idle": "2023-03-19T07:44:18.471123Z",
     "shell.execute_reply": "2023-03-19T07:44:18.470233Z"
    },
    "papermill": {
     "duration": 0.025818,
     "end_time": "2023-03-19T07:44:18.473702",
     "exception": false,
     "start_time": "2023-03-19T07:44:18.447884",
     "status": "completed"
    },
    "tags": []
   },
   "outputs": [
    {
     "name": "stdout",
     "output_type": "stream",
     "text": [
      "/kaggle/input/breast-cancer/sample-submission.csv\n",
      "/kaggle/input/breast-cancer/train.csv\n",
      "/kaggle/input/breast-cancer/test.csv\n"
     ]
    }
   ],
   "source": [
    "# This Python 3 environment comes with many helpful analytics libraries installed\n",
    "# It is defined by the kaggle/python Docker image: https://github.com/kaggle/docker-python\n",
    "# For example, here's several helpful packages to load\n",
    "\n",
    "import numpy as np # linear algebra\n",
    "import pandas as pd # data processing, CSV file I/O (e.g. pd.read_csv)\n",
    "\n",
    "# Input data files are available in the read-only \"../input/\" directory\n",
    "# For example, running this (by clicking run or pressing Shift+Enter) will list all files under the input directory\n",
    "\n",
    "import os\n",
    "for dirname, _, filenames in os.walk('/kaggle/input'):\n",
    "    for filename in filenames:\n",
    "        print(os.path.join(dirname, filename))\n",
    "\n",
    "# You can write up to 20GB to the current directory (/kaggle/working/) that gets preserved as output when you create a version using \"Save & Run All\" \n",
    "# You can also write temporary files to /kaggle/temp/, but they won't be saved outside of the current session"
   ]
  },
  {
   "cell_type": "code",
   "execution_count": 2,
   "id": "3e149654",
   "metadata": {
    "execution": {
     "iopub.execute_input": "2023-03-19T07:44:18.489631Z",
     "iopub.status.busy": "2023-03-19T07:44:18.489227Z",
     "iopub.status.idle": "2023-03-19T07:44:19.949931Z",
     "shell.execute_reply": "2023-03-19T07:44:19.948656Z"
    },
    "papermill": {
     "duration": 1.471681,
     "end_time": "2023-03-19T07:44:19.952681",
     "exception": false,
     "start_time": "2023-03-19T07:44:18.481000",
     "status": "completed"
    },
    "tags": []
   },
   "outputs": [],
   "source": [
    "#importing libraries\n",
    "import pandas as pd\n",
    "import numpy as np\n",
    "from sklearn.neighbors import KNeighborsClassifier\n",
    "from sklearn.model_selection import train_test_split\n",
    "from sklearn.model_selection import cross_val_score\n",
    "import matplotlib.pyplot as plt\n",
    "import seaborn as sns"
   ]
  },
  {
   "cell_type": "code",
   "execution_count": 3,
   "id": "b95cb096",
   "metadata": {
    "execution": {
     "iopub.execute_input": "2023-03-19T07:44:19.969622Z",
     "iopub.status.busy": "2023-03-19T07:44:19.968657Z",
     "iopub.status.idle": "2023-03-19T07:44:19.992683Z",
     "shell.execute_reply": "2023-03-19T07:44:19.991651Z"
    },
    "papermill": {
     "duration": 0.035124,
     "end_time": "2023-03-19T07:44:19.995243",
     "exception": false,
     "start_time": "2023-03-19T07:44:19.960119",
     "status": "completed"
    },
    "tags": []
   },
   "outputs": [],
   "source": [
    "Train=pd.read_csv(\"/kaggle/input/breast-cancer/train.csv\")\n",
    "Test=pd.read_csv(\"/kaggle/input/breast-cancer/test.csv\")"
   ]
  },
  {
   "cell_type": "code",
   "execution_count": 4,
   "id": "fc349458",
   "metadata": {
    "execution": {
     "iopub.execute_input": "2023-03-19T07:44:20.012499Z",
     "iopub.status.busy": "2023-03-19T07:44:20.011382Z",
     "iopub.status.idle": "2023-03-19T07:44:20.041091Z",
     "shell.execute_reply": "2023-03-19T07:44:20.039845Z"
    },
    "papermill": {
     "duration": 0.040928,
     "end_time": "2023-03-19T07:44:20.043634",
     "exception": false,
     "start_time": "2023-03-19T07:44:20.002706",
     "status": "completed"
    },
    "tags": []
   },
   "outputs": [
    {
     "data": {
      "text/html": [
       "<div>\n",
       "<style scoped>\n",
       "    .dataframe tbody tr th:only-of-type {\n",
       "        vertical-align: middle;\n",
       "    }\n",
       "\n",
       "    .dataframe tbody tr th {\n",
       "        vertical-align: top;\n",
       "    }\n",
       "\n",
       "    .dataframe thead th {\n",
       "        text-align: right;\n",
       "    }\n",
       "</style>\n",
       "<table border=\"1\" class=\"dataframe\">\n",
       "  <thead>\n",
       "    <tr style=\"text-align: right;\">\n",
       "      <th></th>\n",
       "      <th>Id</th>\n",
       "      <th>clump_thickness</th>\n",
       "      <th>uniformity_of_cell_size</th>\n",
       "      <th>uniformity_of_cell_shape</th>\n",
       "      <th>marginal_adhesion</th>\n",
       "      <th>single_epithelial_cell_size</th>\n",
       "      <th>bare_nuclei</th>\n",
       "      <th>bland_chromatin</th>\n",
       "      <th>normal_nucleoli</th>\n",
       "      <th>mitosis</th>\n",
       "      <th>class</th>\n",
       "    </tr>\n",
       "  </thead>\n",
       "  <tbody>\n",
       "    <tr>\n",
       "      <th>0</th>\n",
       "      <td>1</td>\n",
       "      <td>5</td>\n",
       "      <td>1</td>\n",
       "      <td>1</td>\n",
       "      <td>1</td>\n",
       "      <td>2</td>\n",
       "      <td>1</td>\n",
       "      <td>3</td>\n",
       "      <td>1</td>\n",
       "      <td>1</td>\n",
       "      <td>2</td>\n",
       "    </tr>\n",
       "    <tr>\n",
       "      <th>1</th>\n",
       "      <td>2</td>\n",
       "      <td>5</td>\n",
       "      <td>4</td>\n",
       "      <td>4</td>\n",
       "      <td>5</td>\n",
       "      <td>7</td>\n",
       "      <td>10</td>\n",
       "      <td>3</td>\n",
       "      <td>2</td>\n",
       "      <td>1</td>\n",
       "      <td>2</td>\n",
       "    </tr>\n",
       "    <tr>\n",
       "      <th>2</th>\n",
       "      <td>3</td>\n",
       "      <td>3</td>\n",
       "      <td>1</td>\n",
       "      <td>1</td>\n",
       "      <td>1</td>\n",
       "      <td>2</td>\n",
       "      <td>2</td>\n",
       "      <td>3</td>\n",
       "      <td>1</td>\n",
       "      <td>1</td>\n",
       "      <td>2</td>\n",
       "    </tr>\n",
       "    <tr>\n",
       "      <th>3</th>\n",
       "      <td>4</td>\n",
       "      <td>6</td>\n",
       "      <td>8</td>\n",
       "      <td>8</td>\n",
       "      <td>1</td>\n",
       "      <td>3</td>\n",
       "      <td>4</td>\n",
       "      <td>3</td>\n",
       "      <td>7</td>\n",
       "      <td>1</td>\n",
       "      <td>2</td>\n",
       "    </tr>\n",
       "    <tr>\n",
       "      <th>4</th>\n",
       "      <td>5</td>\n",
       "      <td>4</td>\n",
       "      <td>1</td>\n",
       "      <td>1</td>\n",
       "      <td>3</td>\n",
       "      <td>2</td>\n",
       "      <td>1</td>\n",
       "      <td>3</td>\n",
       "      <td>1</td>\n",
       "      <td>1</td>\n",
       "      <td>2</td>\n",
       "    </tr>\n",
       "  </tbody>\n",
       "</table>\n",
       "</div>"
      ],
      "text/plain": [
       "   Id  clump_thickness  uniformity_of_cell_size  uniformity_of_cell_shape  \\\n",
       "0   1                5                        1                         1   \n",
       "1   2                5                        4                         4   \n",
       "2   3                3                        1                         1   \n",
       "3   4                6                        8                         8   \n",
       "4   5                4                        1                         1   \n",
       "\n",
       "   marginal_adhesion  single_epithelial_cell_size  bare_nuclei  \\\n",
       "0                  1                            2            1   \n",
       "1                  5                            7           10   \n",
       "2                  1                            2            2   \n",
       "3                  1                            3            4   \n",
       "4                  3                            2            1   \n",
       "\n",
       "   bland_chromatin  normal_nucleoli  mitosis  class  \n",
       "0                3                1        1      2  \n",
       "1                3                2        1      2  \n",
       "2                3                1        1      2  \n",
       "3                3                7        1      2  \n",
       "4                3                1        1      2  "
      ]
     },
     "execution_count": 4,
     "metadata": {},
     "output_type": "execute_result"
    }
   ],
   "source": [
    "Train.head()"
   ]
  },
  {
   "cell_type": "code",
   "execution_count": 5,
   "id": "30191baf",
   "metadata": {
    "execution": {
     "iopub.execute_input": "2023-03-19T07:44:20.060810Z",
     "iopub.status.busy": "2023-03-19T07:44:20.060375Z",
     "iopub.status.idle": "2023-03-19T07:44:20.520189Z",
     "shell.execute_reply": "2023-03-19T07:44:20.519300Z"
    },
    "papermill": {
     "duration": 0.470838,
     "end_time": "2023-03-19T07:44:20.522296",
     "exception": false,
     "start_time": "2023-03-19T07:44:20.051458",
     "status": "completed"
    },
    "tags": []
   },
   "outputs": [
    {
     "data": {
      "text/plain": [
       "<AxesSubplot:>"
      ]
     },
     "execution_count": 5,
     "metadata": {},
     "output_type": "execute_result"
    },
    {
     "data": {
      "image/png": "[encoded data removed]",
      "text/plain": [
       "<Figure size 640x480 with 2 Axes>"
      ]
     },
     "metadata": {},
     "output_type": "display_data"
    }
   ],
   "source": [
    "#correlation graphs\n",
    "Data= Train.corr()\n",
    "sns.heatmap(Data)"
   ]
  },
  {
   "cell_type": "code",
   "execution_count": 6,
   "id": "2b848fc2",
   "metadata": {
    "execution": {
     "iopub.execute_input": "2023-03-19T07:44:20.541357Z",
     "iopub.status.busy": "2023-03-19T07:44:20.540606Z",
     "iopub.status.idle": "2023-03-19T07:44:20.562730Z",
     "shell.execute_reply": "2023-03-19T07:44:20.561103Z"
    },
    "papermill": {
     "duration": 0.035325,
     "end_time": "2023-03-19T07:44:20.566029",
     "exception": false,
     "start_time": "2023-03-19T07:44:20.530704",
     "status": "completed"
    },
    "tags": []
   },
   "outputs": [
    {
     "name": "stdout",
     "output_type": "stream",
     "text": [
      "<class 'pandas.core.frame.DataFrame'>\n",
      "RangeIndex: 468 entries, 0 to 467\n",
      "Data columns (total 11 columns):\n",
      " #   Column                       Non-Null Count  Dtype\n",
      "---  ------                       --------------  -----\n",
      " 0   Id                           468 non-null    int64\n",
      " 1   clump_thickness              468 non-null    int64\n",
      " 2   uniformity_of_cell_size      468 non-null    int64\n",
      " 3   uniformity_of_cell_shape     468 non-null    int64\n",
      " 4   marginal_adhesion            468 non-null    int64\n",
      " 5   single_epithelial_cell_size  468 non-null    int64\n",
      " 6   bare_nuclei                  468 non-null    int64\n",
      " 7   bland_chromatin              468 non-null    int64\n",
      " 8   normal_nucleoli              468 non-null    int64\n",
      " 9   mitosis                      468 non-null    int64\n",
      " 10  class                        468 non-null    int64\n",
      "dtypes: int64(11)\n",
      "memory usage: 40.3 KB\n"
     ]
    }
   ],
   "source": [
    "Train.info()"
   ]
  },
  {
   "cell_type": "code",
   "execution_count": 7,
   "id": "b3df7e5b",
   "metadata": {
    "execution": {
     "iopub.execute_input": "2023-03-19T07:44:20.585237Z",
     "iopub.status.busy": "2023-03-19T07:44:20.584812Z",
     "iopub.status.idle": "2023-03-19T07:44:20.598205Z",
     "shell.execute_reply": "2023-03-19T07:44:20.596864Z"
    },
    "papermill": {
     "duration": 0.025649,
     "end_time": "2023-03-19T07:44:20.600604",
     "exception": false,
     "start_time": "2023-03-19T07:44:20.574955",
     "status": "completed"
    },
    "tags": []
   },
   "outputs": [
    {
     "data": {
      "text/html": [
       "<div>\n",
       "<style scoped>\n",
       "    .dataframe tbody tr th:only-of-type {\n",
       "        vertical-align: middle;\n",
       "    }\n",
       "\n",
       "    .dataframe tbody tr th {\n",
       "        vertical-align: top;\n",
       "    }\n",
       "\n",
       "    .dataframe thead th {\n",
       "        text-align: right;\n",
       "    }\n",
       "</style>\n",
       "<table border=\"1\" class=\"dataframe\">\n",
       "  <thead>\n",
       "    <tr style=\"text-align: right;\">\n",
       "      <th></th>\n",
       "      <th>Id</th>\n",
       "      <th>clump_thickness</th>\n",
       "      <th>uniformity_of_cell_size</th>\n",
       "      <th>uniformity_of_cell_shape</th>\n",
       "      <th>marginal_adhesion</th>\n",
       "      <th>single_epithelial_cell_size</th>\n",
       "      <th>bare_nuclei</th>\n",
       "      <th>bland_chromatin</th>\n",
       "      <th>normal_nucleoli</th>\n",
       "      <th>mitosis</th>\n",
       "    </tr>\n",
       "  </thead>\n",
       "  <tbody>\n",
       "    <tr>\n",
       "      <th>0</th>\n",
       "      <td>1</td>\n",
       "      <td>4</td>\n",
       "      <td>1</td>\n",
       "      <td>1</td>\n",
       "      <td>1</td>\n",
       "      <td>2</td>\n",
       "      <td>1</td>\n",
       "      <td>1</td>\n",
       "      <td>1</td>\n",
       "      <td>1</td>\n",
       "    </tr>\n",
       "    <tr>\n",
       "      <th>1</th>\n",
       "      <td>2</td>\n",
       "      <td>1</td>\n",
       "      <td>1</td>\n",
       "      <td>2</td>\n",
       "      <td>1</td>\n",
       "      <td>2</td>\n",
       "      <td>1</td>\n",
       "      <td>2</td>\n",
       "      <td>1</td>\n",
       "      <td>1</td>\n",
       "    </tr>\n",
       "    <tr>\n",
       "      <th>2</th>\n",
       "      <td>3</td>\n",
       "      <td>3</td>\n",
       "      <td>1</td>\n",
       "      <td>1</td>\n",
       "      <td>1</td>\n",
       "      <td>1</td>\n",
       "      <td>1</td>\n",
       "      <td>2</td>\n",
       "      <td>1</td>\n",
       "      <td>1</td>\n",
       "    </tr>\n",
       "    <tr>\n",
       "      <th>3</th>\n",
       "      <td>4</td>\n",
       "      <td>6</td>\n",
       "      <td>1</td>\n",
       "      <td>1</td>\n",
       "      <td>3</td>\n",
       "      <td>2</td>\n",
       "      <td>1</td>\n",
       "      <td>1</td>\n",
       "      <td>1</td>\n",
       "      <td>1</td>\n",
       "    </tr>\n",
       "    <tr>\n",
       "      <th>4</th>\n",
       "      <td>5</td>\n",
       "      <td>6</td>\n",
       "      <td>1</td>\n",
       "      <td>1</td>\n",
       "      <td>1</td>\n",
       "      <td>1</td>\n",
       "      <td>1</td>\n",
       "      <td>1</td>\n",
       "      <td>1</td>\n",
       "      <td>1</td>\n",
       "    </tr>\n",
       "  </tbody>\n",
       "</table>\n",
       "</div>"
      ],
      "text/plain": [
       "   Id  clump_thickness  uniformity_of_cell_size  uniformity_of_cell_shape  \\\n",
       "0   1                4                        1                         1   \n",
       "1   2                1                        1                         2   \n",
       "2   3                3                        1                         1   \n",
       "3   4                6                        1                         1   \n",
       "4   5                6                        1                         1   \n",
       "\n",
       "   marginal_adhesion  single_epithelial_cell_size  bare_nuclei  \\\n",
       "0                  1                            2            1   \n",
       "1                  1                            2            1   \n",
       "2                  1                            1            1   \n",
       "3                  3                            2            1   \n",
       "4                  1                            1            1   \n",
       "\n",
       "   bland_chromatin  normal_nucleoli  mitosis  \n",
       "0                1                1        1  \n",
       "1                2                1        1  \n",
       "2                2                1        1  \n",
       "3                1                1        1  \n",
       "4                1                1        1  "
      ]
     },
     "execution_count": 7,
     "metadata": {},
     "output_type": "execute_result"
    }
   ],
   "source": [
    "Test.head()"
   ]
  },
  {
   "cell_type": "code",
   "execution_count": 8,
   "id": "5817bdc3",
   "metadata": {
    "execution": {
     "iopub.execute_input": "2023-03-19T07:44:20.621508Z",
     "iopub.status.busy": "2023-03-19T07:44:20.620721Z",
     "iopub.status.idle": "2023-03-19T07:44:20.628272Z",
     "shell.execute_reply": "2023-03-19T07:44:20.627450Z"
    },
    "papermill": {
     "duration": 0.020121,
     "end_time": "2023-03-19T07:44:20.630508",
     "exception": false,
     "start_time": "2023-03-19T07:44:20.610387",
     "status": "completed"
    },
    "tags": []
   },
   "outputs": [],
   "source": [
    "Train.drop(\"Id\", axis=1, inplace=True)"
   ]
  },
  {
   "cell_type": "code",
   "execution_count": 9,
   "id": "bacdd80d",
   "metadata": {
    "execution": {
     "iopub.execute_input": "2023-03-19T07:44:20.650026Z",
     "iopub.status.busy": "2023-03-19T07:44:20.649377Z",
     "iopub.status.idle": "2023-03-19T07:44:20.656241Z",
     "shell.execute_reply": "2023-03-19T07:44:20.654667Z"
    },
    "papermill": {
     "duration": 0.019288,
     "end_time": "2023-03-19T07:44:20.658719",
     "exception": false,
     "start_time": "2023-03-19T07:44:20.639431",
     "status": "completed"
    },
    "tags": []
   },
   "outputs": [
    {
     "name": "stdout",
     "output_type": "stream",
     "text": [
      "shape of train data:  (468, 10)\n",
      "\n",
      "shape of test data:  (101, 10)\n"
     ]
    }
   ],
   "source": [
    "print(\"shape of train data: \", Train.shape)\n",
    "print(\"\\nshape of test data: \", Test.shape)"
   ]
  },
  {
   "cell_type": "code",
   "execution_count": 10,
   "id": "83efc66f",
   "metadata": {
    "execution": {
     "iopub.execute_input": "2023-03-19T07:44:20.678308Z",
     "iopub.status.busy": "2023-03-19T07:44:20.677897Z",
     "iopub.status.idle": "2023-03-19T07:44:20.687043Z",
     "shell.execute_reply": "2023-03-19T07:44:20.685591Z"
    },
    "papermill": {
     "duration": 0.021695,
     "end_time": "2023-03-19T07:44:20.689387",
     "exception": false,
     "start_time": "2023-03-19T07:44:20.667692",
     "status": "completed"
    },
    "tags": []
   },
   "outputs": [
    {
     "data": {
      "text/plain": [
       "array([2, 4])"
      ]
     },
     "execution_count": 10,
     "metadata": {},
     "output_type": "execute_result"
    }
   ],
   "source": [
    "Train[\"class\"].unique()"
   ]
  },
  {
   "cell_type": "code",
   "execution_count": 11,
   "id": "ab1ef99c",
   "metadata": {
    "execution": {
     "iopub.execute_input": "2023-03-19T07:44:20.709371Z",
     "iopub.status.busy": "2023-03-19T07:44:20.708529Z",
     "iopub.status.idle": "2023-03-19T07:44:20.714311Z",
     "shell.execute_reply": "2023-03-19T07:44:20.713381Z"
    },
    "papermill": {
     "duration": 0.017906,
     "end_time": "2023-03-19T07:44:20.716334",
     "exception": false,
     "start_time": "2023-03-19T07:44:20.698428",
     "status": "completed"
    },
    "tags": []
   },
   "outputs": [],
   "source": [
    "Data= np.array(Train.iloc[:,:9])\n",
    "Labels=np.array(Train[\"class\"])\n"
   ]
  },
  {
   "cell_type": "code",
   "execution_count": 12,
   "id": "15c11024",
   "metadata": {
    "execution": {
     "iopub.execute_input": "2023-03-19T07:44:20.735778Z",
     "iopub.status.busy": "2023-03-19T07:44:20.735399Z",
     "iopub.status.idle": "2023-03-19T07:44:20.742608Z",
     "shell.execute_reply": "2023-03-19T07:44:20.741558Z"
    },
    "papermill": {
     "duration": 0.019862,
     "end_time": "2023-03-19T07:44:20.744906",
     "exception": false,
     "start_time": "2023-03-19T07:44:20.725044",
     "status": "completed"
    },
    "tags": []
   },
   "outputs": [],
   "source": [
    "test_size =25\n",
    "#splitting data into train and test data\n",
    "\n",
    "X_train, X_test, y_train, y_test = train_test_split(Data,Labels, test_size = test_size, random_state = 10)\n"
   ]
  },
  {
   "cell_type": "code",
   "execution_count": 13,
   "id": "b02a2fb3",
   "metadata": {
    "execution": {
     "iopub.execute_input": "2023-03-19T07:44:20.763981Z",
     "iopub.status.busy": "2023-03-19T07:44:20.763588Z",
     "iopub.status.idle": "2023-03-19T07:44:21.753922Z",
     "shell.execute_reply": "2023-03-19T07:44:21.752913Z"
    },
    "papermill": {
     "duration": 1.003159,
     "end_time": "2023-03-19T07:44:21.756802",
     "exception": false,
     "start_time": "2023-03-19T07:44:20.753643",
     "status": "completed"
    },
    "tags": []
   },
   "outputs": [],
   "source": [
    "#using cross validation score to calculateoptimal value of K\n",
    "\n",
    "klist = []\n",
    "K_scores = []\n",
    "for k in range(1,30):\n",
    "   klist.append(k)\n",
    "   KNN = KNeighborsClassifier(n_neighbors = k)\n",
    "   scores = cross_val_score(KNN,X_train,y_train,cv=10, scoring = 'accuracy')\n",
    "   K_scores.append(scores.mean())"
   ]
  },
  {
   "cell_type": "code",
   "execution_count": 14,
   "id": "656067da",
   "metadata": {
    "execution": {
     "iopub.execute_input": "2023-03-19T07:44:21.776878Z",
     "iopub.status.busy": "2023-03-19T07:44:21.776460Z",
     "iopub.status.idle": "2023-03-19T07:44:21.782491Z",
     "shell.execute_reply": "2023-03-19T07:44:21.781290Z"
    },
    "papermill": {
     "duration": 0.01966,
     "end_time": "2023-03-19T07:44:21.785628",
     "exception": false,
     "start_time": "2023-03-19T07:44:21.765968",
     "status": "completed"
    },
    "tags": []
   },
   "outputs": [
    {
     "name": "stdout",
     "output_type": "stream",
     "text": [
      "[0.939141414141414, 0.9367171717171718, 0.9547979797979795, 0.9479797979797979, 0.9615656565656565, 0.9593434343434343, 0.957070707070707, 0.9548484848484848, 0.9616161616161616, 0.9503535353535352, 0.9526262626262625, 0.9526262626262625, 0.957121212121212, 0.957121212121212, 0.957121212121212, 0.9548989898989898, 0.957121212121212, 0.9526262626262625, 0.9548989898989898, 0.9526262626262625, 0.9548989898989898, 0.9526262626262625, 0.9548989898989898, 0.9526767676767676, 0.9526767676767676, 0.9526767676767676, 0.9526767676767676, 0.9481818181818182, 0.9481818181818182]\n"
     ]
    }
   ],
   "source": [
    "print(K_scores)"
   ]
  },
  {
   "cell_type": "code",
   "execution_count": 15,
   "id": "b1327d43",
   "metadata": {
    "execution": {
     "iopub.execute_input": "2023-03-19T07:44:21.806548Z",
     "iopub.status.busy": "2023-03-19T07:44:21.806064Z",
     "iopub.status.idle": "2023-03-19T07:44:21.811158Z",
     "shell.execute_reply": "2023-03-19T07:44:21.809944Z"
    },
    "papermill": {
     "duration": 0.018303,
     "end_time": "2023-03-19T07:44:21.813653",
     "exception": false,
     "start_time": "2023-03-19T07:44:21.795350",
     "status": "completed"
    },
    "tags": []
   },
   "outputs": [],
   "source": [
    "# calculating MSE\n",
    "MSE=[1-x for x in K_scores]"
   ]
  },
  {
   "cell_type": "code",
   "execution_count": 16,
   "id": "069d0db2",
   "metadata": {
    "execution": {
     "iopub.execute_input": "2023-03-19T07:44:21.833774Z",
     "iopub.status.busy": "2023-03-19T07:44:21.833392Z",
     "iopub.status.idle": "2023-03-19T07:44:22.103558Z",
     "shell.execute_reply": "2023-03-19T07:44:22.102715Z"
    },
    "papermill": {
     "duration": 0.283047,
     "end_time": "2023-03-19T07:44:22.105734",
     "exception": false,
     "start_time": "2023-03-19T07:44:21.822687",
     "status": "completed"
    },
    "tags": []
   },
   "outputs": [
    {
     "data": {
      "text/plain": [
       "Text(0, 0.5, 'Mean Error')"
      ]
     },
     "execution_count": 16,
     "metadata": {},
     "output_type": "execute_result"
    },
    {
     "data": {
      "image/png": "[encoded data removed]",
      "text/plain": [
       "<Figure size 1200x600 with 1 Axes>"
      ]
     },
     "metadata": {},
     "output_type": "display_data"
    }
   ],
   "source": [
    "#plotting graph to visualize error rate and k values\n",
    "plt.figure(figsize=(12, 6))\n",
    "plt.plot(range(1,30), MSE, color='blue', linestyle=\"solid\", marker='o',markersize=8)\n",
    "plt.title('Error Rate K Value')\n",
    "plt.xlabel('K Value')\n",
    "plt.ylabel('Mean Error')"
   ]
  },
  {
   "cell_type": "code",
   "execution_count": 17,
   "id": "f22da10c",
   "metadata": {
    "execution": {
     "iopub.execute_input": "2023-03-19T07:44:22.127180Z",
     "iopub.status.busy": "2023-03-19T07:44:22.126737Z",
     "iopub.status.idle": "2023-03-19T07:44:22.133217Z",
     "shell.execute_reply": "2023-03-19T07:44:22.131814Z"
    },
    "papermill": {
     "duration": 0.019451,
     "end_time": "2023-03-19T07:44:22.135525",
     "exception": false,
     "start_time": "2023-03-19T07:44:22.116074",
     "status": "completed"
    },
    "tags": []
   },
   "outputs": [
    {
     "name": "stdout",
     "output_type": "stream",
     "text": [
      "The optimal value of K (neighbors) is  9\n"
     ]
    }
   ],
   "source": [
    "#value of k for which mse is minimum is optimal\n",
    "Optimal_K = klist[MSE.index(min(MSE))]\n",
    "\n",
    "print(\"The optimal value of K (neighbors) is \",Optimal_K)"
   ]
  },
  {
   "cell_type": "code",
   "execution_count": 18,
   "id": "3852d679",
   "metadata": {
    "execution": {
     "iopub.execute_input": "2023-03-19T07:44:22.156959Z",
     "iopub.status.busy": "2023-03-19T07:44:22.156178Z",
     "iopub.status.idle": "2023-03-19T07:44:22.170149Z",
     "shell.execute_reply": "2023-03-19T07:44:22.168724Z"
    },
    "papermill": {
     "duration": 0.027479,
     "end_time": "2023-03-19T07:44:22.172651",
     "exception": false,
     "start_time": "2023-03-19T07:44:22.145172",
     "status": "completed"
    },
    "tags": []
   },
   "outputs": [
    {
     "data": {
      "text/plain": [
       "KNeighborsClassifier(n_neighbors=9)"
      ]
     },
     "execution_count": 18,
     "metadata": {},
     "output_type": "execute_result"
    }
   ],
   "source": [
    "KNN = KNeighborsClassifier(n_neighbors = Optimal_K)\n",
    "\n",
    "KNN.fit(X_train,y_train)"
   ]
  },
  {
   "cell_type": "code",
   "execution_count": 19,
   "id": "05453890",
   "metadata": {
    "execution": {
     "iopub.execute_input": "2023-03-19T07:44:22.194667Z",
     "iopub.status.busy": "2023-03-19T07:44:22.193867Z",
     "iopub.status.idle": "2023-03-19T07:44:22.203758Z",
     "shell.execute_reply": "2023-03-19T07:44:22.202443Z"
    },
    "papermill": {
     "duration": 0.023679,
     "end_time": "2023-03-19T07:44:22.206274",
     "exception": false,
     "start_time": "2023-03-19T07:44:22.182595",
     "status": "completed"
    },
    "tags": []
   },
   "outputs": [
    {
     "name": "stdout",
     "output_type": "stream",
     "text": [
      "Accuracy Score of the Model: 0.92\n"
     ]
    }
   ],
   "source": [
    "from sklearn.metrics import accuracy_score,classification_report,confusion_matrix\n",
    "\n",
    "#predicting test data\n",
    "y_predict= KNN.predict(X_test)\n",
    "\n",
    "accuracy=accuracy_score(y_test,y_predict)\n",
    "\n",
    "print(f'Accuracy Score of the Model: {accuracy}')"
   ]
  },
  {
   "cell_type": "code",
   "execution_count": 20,
   "id": "28517e17",
   "metadata": {
    "execution": {
     "iopub.execute_input": "2023-03-19T07:44:22.227929Z",
     "iopub.status.busy": "2023-03-19T07:44:22.227514Z",
     "iopub.status.idle": "2023-03-19T07:44:22.239674Z",
     "shell.execute_reply": "2023-03-19T07:44:22.238292Z"
    },
    "papermill": {
     "duration": 0.025577,
     "end_time": "2023-03-19T07:44:22.241864",
     "exception": false,
     "start_time": "2023-03-19T07:44:22.216287",
     "status": "completed"
    },
    "tags": []
   },
   "outputs": [
    {
     "name": "stdout",
     "output_type": "stream",
     "text": [
      "\n",
      "Classification Report:\n",
      "\n",
      "               precision    recall  f1-score   support\n",
      "\n",
      "           2       0.94      0.94      0.94        17\n",
      "           4       0.88      0.88      0.88         8\n",
      "\n",
      "    accuracy                           0.92        25\n",
      "   macro avg       0.91      0.91      0.91        25\n",
      "weighted avg       0.92      0.92      0.92        25\n",
      "\n"
     ]
    }
   ],
   "source": [
    "print(\"\\nClassification Report:\\n\\n\" ,classification_report(y_test,y_predict))"
   ]
  },
  {
   "cell_type": "code",
   "execution_count": 21,
   "id": "17a76124",
   "metadata": {
    "execution": {
     "iopub.execute_input": "2023-03-19T07:44:22.263530Z",
     "iopub.status.busy": "2023-03-19T07:44:22.263126Z",
     "iopub.status.idle": "2023-03-19T07:44:22.268640Z",
     "shell.execute_reply": "2023-03-19T07:44:22.267573Z"
    },
    "papermill": {
     "duration": 0.019007,
     "end_time": "2023-03-19T07:44:22.270753",
     "exception": false,
     "start_time": "2023-03-19T07:44:22.251746",
     "status": "completed"
    },
    "tags": []
   },
   "outputs": [],
   "source": [
    "# converting Test dataframe into numpy array\n",
    "test=np.array(Test.iloc[:, 1:])"
   ]
  },
  {
   "cell_type": "code",
   "execution_count": 22,
   "id": "38ef5166",
   "metadata": {
    "execution": {
     "iopub.execute_input": "2023-03-19T07:44:22.292110Z",
     "iopub.status.busy": "2023-03-19T07:44:22.291663Z",
     "iopub.status.idle": "2023-03-19T07:44:22.301387Z",
     "shell.execute_reply": "2023-03-19T07:44:22.300109Z"
    },
    "papermill": {
     "duration": 0.023364,
     "end_time": "2023-03-19T07:44:22.303985",
     "exception": false,
     "start_time": "2023-03-19T07:44:22.280621",
     "status": "completed"
    },
    "tags": []
   },
   "outputs": [],
   "source": [
    "test_predict= KNN.predict(test)"
   ]
  },
  {
   "cell_type": "code",
   "execution_count": 23,
   "id": "6b532b09",
   "metadata": {
    "execution": {
     "iopub.execute_input": "2023-03-19T07:44:22.326502Z",
     "iopub.status.busy": "2023-03-19T07:44:22.325708Z",
     "iopub.status.idle": "2023-03-19T07:44:22.330009Z",
     "shell.execute_reply": "2023-03-19T07:44:22.329079Z"
    },
    "papermill": {
     "duration": 0.018117,
     "end_time": "2023-03-19T07:44:22.332212",
     "exception": false,
     "start_time": "2023-03-19T07:44:22.314095",
     "status": "completed"
    },
    "tags": []
   },
   "outputs": [],
   "source": [
    "# sample= pd.read_csv(\"/kaggle/input/breast-cancer/sample-submission.csv\")"
   ]
  },
  {
   "cell_type": "code",
   "execution_count": 24,
   "id": "6dd0ac2d",
   "metadata": {
    "execution": {
     "iopub.execute_input": "2023-03-19T07:44:22.354609Z",
     "iopub.status.busy": "2023-03-19T07:44:22.354231Z",
     "iopub.status.idle": "2023-03-19T07:44:22.357900Z",
     "shell.execute_reply": "2023-03-19T07:44:22.357107Z"
    },
    "papermill": {
     "duration": 0.018277,
     "end_time": "2023-03-19T07:44:22.360449",
     "exception": false,
     "start_time": "2023-03-19T07:44:22.342172",
     "status": "completed"
    },
    "tags": []
   },
   "outputs": [],
   "source": [
    "# sample.head()"
   ]
  },
  {
   "cell_type": "code",
   "execution_count": 25,
   "id": "dc76cab5",
   "metadata": {
    "execution": {
     "iopub.execute_input": "2023-03-19T07:44:22.384837Z",
     "iopub.status.busy": "2023-03-19T07:44:22.383438Z",
     "iopub.status.idle": "2023-03-19T07:44:22.391608Z",
     "shell.execute_reply": "2023-03-19T07:44:22.390646Z"
    },
    "papermill": {
     "duration": 0.02238,
     "end_time": "2023-03-19T07:44:22.393788",
     "exception": false,
     "start_time": "2023-03-19T07:44:22.371408",
     "status": "completed"
    },
    "tags": []
   },
   "outputs": [
    {
     "data": {
      "text/plain": [
       "array([2, 2, 2, 2, 2, 2, 2, 2, 2, 2, 2, 4, 2, 2, 4, 4, 2, 2, 2, 4, 4, 2,\n",
       "       2, 4, 2, 4, 2, 2, 2, 2, 2, 2, 2, 2, 2, 2, 2, 2, 4, 2, 2, 2, 2, 2,\n",
       "       2, 2, 4, 4, 2, 2, 2, 4, 2, 2, 4, 4, 2, 2, 2, 2, 2, 2, 4, 2, 2, 2,\n",
       "       2, 2, 2, 2, 2, 2, 2, 2, 2, 2, 2, 2, 4, 2, 2, 4, 2, 2, 2, 2, 2, 2,\n",
       "       2, 2, 2, 2, 2, 2, 2, 2, 2, 4, 2, 2, 4])"
      ]
     },
     "execution_count": 25,
     "metadata": {},
     "output_type": "execute_result"
    }
   ],
   "source": [
    "test_predict"
   ]
  },
  {
   "cell_type": "code",
   "execution_count": 26,
   "id": "26d01e9b",
   "metadata": {
    "execution": {
     "iopub.execute_input": "2023-03-19T07:44:22.416396Z",
     "iopub.status.busy": "2023-03-19T07:44:22.415282Z",
     "iopub.status.idle": "2023-03-19T07:44:22.422754Z",
     "shell.execute_reply": "2023-03-19T07:44:22.421775Z"
    },
    "papermill": {
     "duration": 0.020983,
     "end_time": "2023-03-19T07:44:22.425095",
     "exception": false,
     "start_time": "2023-03-19T07:44:22.404112",
     "status": "completed"
    },
    "tags": []
   },
   "outputs": [],
   "source": [
    "Predictions= pd.DataFrame(columns=[\"Id\",\"class\"])"
   ]
  },
  {
   "cell_type": "code",
   "execution_count": 27,
   "id": "4fb296d9",
   "metadata": {
    "execution": {
     "iopub.execute_input": "2023-03-19T07:44:22.446538Z",
     "iopub.status.busy": "2023-03-19T07:44:22.446137Z",
     "iopub.status.idle": "2023-03-19T07:44:22.453004Z",
     "shell.execute_reply": "2023-03-19T07:44:22.452027Z"
    },
    "papermill": {
     "duration": 0.020482,
     "end_time": "2023-03-19T07:44:22.455205",
     "exception": false,
     "start_time": "2023-03-19T07:44:22.434723",
     "status": "completed"
    },
    "tags": []
   },
   "outputs": [],
   "source": [
    "Predictions['Id']= Test['Id']\n",
    "Predictions['class']= test_predict"
   ]
  },
  {
   "cell_type": "code",
   "execution_count": 28,
   "id": "3f6d8c78",
   "metadata": {
    "execution": {
     "iopub.execute_input": "2023-03-19T07:44:22.476211Z",
     "iopub.status.busy": "2023-03-19T07:44:22.475237Z",
     "iopub.status.idle": "2023-03-19T07:44:22.483862Z",
     "shell.execute_reply": "2023-03-19T07:44:22.483112Z"
    },
    "papermill": {
     "duration": 0.021516,
     "end_time": "2023-03-19T07:44:22.486036",
     "exception": false,
     "start_time": "2023-03-19T07:44:22.464520",
     "status": "completed"
    },
    "tags": []
   },
   "outputs": [
    {
     "data": {
      "text/html": [
       "<div>\n",
       "<style scoped>\n",
       "    .dataframe tbody tr th:only-of-type {\n",
       "        vertical-align: middle;\n",
       "    }\n",
       "\n",
       "    .dataframe tbody tr th {\n",
       "        vertical-align: top;\n",
       "    }\n",
       "\n",
       "    .dataframe thead th {\n",
       "        text-align: right;\n",
       "    }\n",
       "</style>\n",
       "<table border=\"1\" class=\"dataframe\">\n",
       "  <thead>\n",
       "    <tr style=\"text-align: right;\">\n",
       "      <th></th>\n",
       "      <th>Id</th>\n",
       "      <th>class</th>\n",
       "    </tr>\n",
       "  </thead>\n",
       "  <tbody>\n",
       "    <tr>\n",
       "      <th>0</th>\n",
       "      <td>1</td>\n",
       "      <td>2</td>\n",
       "    </tr>\n",
       "    <tr>\n",
       "      <th>1</th>\n",
       "      <td>2</td>\n",
       "      <td>2</td>\n",
       "    </tr>\n",
       "    <tr>\n",
       "      <th>2</th>\n",
       "      <td>3</td>\n",
       "      <td>2</td>\n",
       "    </tr>\n",
       "    <tr>\n",
       "      <th>3</th>\n",
       "      <td>4</td>\n",
       "      <td>2</td>\n",
       "    </tr>\n",
       "    <tr>\n",
       "      <th>4</th>\n",
       "      <td>5</td>\n",
       "      <td>2</td>\n",
       "    </tr>\n",
       "  </tbody>\n",
       "</table>\n",
       "</div>"
      ],
      "text/plain": [
       "   Id  class\n",
       "0   1      2\n",
       "1   2      2\n",
       "2   3      2\n",
       "3   4      2\n",
       "4   5      2"
      ]
     },
     "execution_count": 28,
     "metadata": {},
     "output_type": "execute_result"
    }
   ],
   "source": [
    "Predictions.head()"
   ]
  },
  {
   "cell_type": "code",
   "execution_count": 29,
   "id": "88cb93d7",
   "metadata": {
    "execution": {
     "iopub.execute_input": "2023-03-19T07:44:22.509323Z",
     "iopub.status.busy": "2023-03-19T07:44:22.508566Z",
     "iopub.status.idle": "2023-03-19T07:44:22.519062Z",
     "shell.execute_reply": "2023-03-19T07:44:22.518087Z"
    },
    "papermill": {
     "duration": 0.024955,
     "end_time": "2023-03-19T07:44:22.521571",
     "exception": false,
     "start_time": "2023-03-19T07:44:22.496616",
     "status": "completed"
    },
    "tags": []
   },
   "outputs": [],
   "source": [
    "Predictions.to_csv(\"submission.csv\", index=False)"
   ]
  }
 ],
 "metadata": {
  "kernelspec": {
   "display_name": "Python 3",
   "language": "python",
   "name": "python3"
  },
  "language_info": {
   "codemirror_mode": {
    "name": "ipython",
    "version": 3
   },
   "file_extension": ".py",
   "mimetype": "text/x-python",
   "name": "python",
   "nbconvert_exporter": "python",
   "pygments_lexer": "ipython3",
   "version": "3.7.12"
  },
  "papermill": {
   "default_parameters": {},
   "duration": 15.818922,
   "end_time": "2023-03-19T07:44:23.253015",
   "environment_variables": {},
   "exception": null,
   "input_path": "__notebook__.ipynb",
   "output_path": "__notebook__.ipynb",
   "parameters": {},
   "start_time": "2023-03-19T07:44:07.434093",
   "version": "2.4.0"
  }
 },
 "nbformat": 4,
 "nbformat_minor": 5
}
